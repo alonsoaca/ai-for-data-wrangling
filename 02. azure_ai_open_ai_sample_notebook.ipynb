{
 "cells": [
  {
   "cell_type": "markdown",
   "metadata": {},
   "source": [
    "# Simple chat interaction"
   ]
  },
  {
   "cell_type": "code",
   "execution_count": 2,
   "metadata": {},
   "outputs": [],
   "source": [
    "from openai import AzureOpenAI\n",
    "import os"
   ]
  },
  {
   "cell_type": "code",
   "execution_count": 3,
   "metadata": {},
   "outputs": [],
   "source": [
    "\n",
    "\n",
    "client = AzureOpenAI(\n",
    "    # This is the default and can be omitted\n",
    "    api_key=os.getenv('AZURE_AI_GPT_4O_MINI_API_KEY'),\n",
    "    api_version='2024-02-15-preview',\n",
    "    azure_endpoint='https://aiservice-guild-demos-dev-eastus2-01.openai.azure.com/'\n",
    ")\n",
    "\n",
    "# Create the prompt\n",
    "prompt = f\"Hello ChatGPT\"\n",
    "\n",
    "chat_completion = client.chat.completions.create(\n",
    "    messages=[\n",
    "        {\n",
    "            \"role\": \"system\",\n",
    "            \"content\": \"You are a helpful assistant that repeats back what you hear.\"\n",
    "        }\n",
    "        ,{\n",
    "            \"role\": \"user\",\n",
    "            \"content\": prompt,\n",
    "        }\n",
    "    ],\n",
    "    model=\"gpt-4o-mini\",\n",
    "    temperature=0,\n",
    ")\n"
   ]
  },
  {
   "cell_type": "code",
   "execution_count": 4,
   "metadata": {},
   "outputs": [
    {
     "name": "stdout",
     "output_type": "stream",
     "text": [
      "Hello! How can I assist you today?\n"
     ]
    }
   ],
   "source": [
    "print(chat_completion.choices[0].message.content)"
   ]
  },
  {
   "cell_type": "markdown",
   "metadata": {},
   "source": [
    "# Structured output"
   ]
  },
  {
   "cell_type": "code",
   "execution_count": 6,
   "metadata": {},
   "outputs": [
    {
     "data": {
      "text/plain": [
       "CalendarEvent(name='Science Fair', date='Friday', hour='12pm', participants=['Alice', 'Bob'])"
      ]
     },
     "execution_count": 6,
     "metadata": {},
     "output_type": "execute_result"
    }
   ],
   "source": [
    "from pydantic import BaseModel\n",
    "\n",
    "client = AzureOpenAI(\n",
    "    # This is the default and can be omitted\n",
    "    api_key=os.getenv('AZURE_AI_GPT_4O_MINI_API_KEY'),\n",
    "    api_version='2024-08-01-preview',\n",
    "    azure_endpoint='https://aiservice-guild-demos-dev-eastus2-01.openai.azure.com/'\n",
    ")\n",
    "\n",
    "class CalendarEvent(BaseModel):\n",
    "    name: str\n",
    "    date: str\n",
    "    hour: str\n",
    "    participants: list[str]\n",
    "\n",
    "completion = client.beta.chat.completions.parse(\n",
    "    model=\"gpt-4o\",\n",
    "    messages=[\n",
    "        {\"role\": \"system\", \"content\": \"Extract the event information.\"},\n",
    "        {\"role\": \"user\", \"content\": \"Alice and Bob are going to a science fair on Friday at 12pm.\"},\n",
    "    ],\n",
    "    response_format=CalendarEvent,\n",
    ")\n",
    "\n",
    "event = completion.choices[0].message.parsed\n",
    "\n",
    "event"
   ]
  },
  {
   "cell_type": "code",
   "execution_count": 10,
   "metadata": {},
   "outputs": [
    {
     "name": "stdout",
     "output_type": "stream",
     "text": [
      "Even Name: Science Fair\n",
      "\n",
      "\tDate: Friday\n",
      "\tHour: 12pm\n",
      "\tParticipants: ['Alice', 'Bob']\n"
     ]
    }
   ],
   "source": [
    "print(f\"Even Name: {event.name}\")\n",
    "print(f\"\\n\\tDate: {event.date}\")\n",
    "print(f\"\\tHour: {event.hour}\")\n",
    "print(f\"\\tParticipants: {event.participants}\")\n",
    "\n"
   ]
  },
  {
   "cell_type": "code",
   "execution_count": null,
   "metadata": {},
   "outputs": [],
   "source": []
  }
 ],
 "metadata": {
  "kernelspec": {
   "display_name": "ai-for-data-wrangling-talk",
   "language": "python",
   "name": "python3"
  },
  "language_info": {
   "codemirror_mode": {
    "name": "ipython",
    "version": 3
   },
   "file_extension": ".py",
   "mimetype": "text/x-python",
   "name": "python",
   "nbconvert_exporter": "python",
   "pygments_lexer": "ipython3",
   "version": "3.11.10"
  }
 },
 "nbformat": 4,
 "nbformat_minor": 2
}
