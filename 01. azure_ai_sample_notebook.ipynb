{
 "cells": [
  {
   "cell_type": "code",
   "execution_count": 1,
   "metadata": {},
   "outputs": [],
   "source": [
    "import os\n",
    "from azure.ai.inference import ChatCompletionsClient\n",
    "from azure.core.credentials import AzureKeyCredential\n",
    "\n",
    "#api_key=openai_key = os.getenv('AZURE_AI_MISTRAL_3B_API_KEY')\n",
    "#azure_ai_endpoint=\"https://Ministral-3B.eastus2.models.ai.azure.com/\"\n",
    "\n",
    "azure_ai_endpoint=\"https://Phi-3-5-mini-instruct-rxqog.eastus2.models.ai.azure.com/\"\n",
    "api_key=openai_key = os.getenv('AZURE_AI_PHI_3_5_MINI_INSTRUCT_API_KEY')\n",
    "\n",
    "client = ChatCompletionsClient(\n",
    "    endpoint=azure_ai_endpoint,\n",
    "    credential=AzureKeyCredential(api_key),\n",
    ")"
   ]
  },
  {
   "cell_type": "code",
   "execution_count": 2,
   "metadata": {},
   "outputs": [],
   "source": [
    "model_info = client.get_model_info()"
   ]
  },
  {
   "cell_type": "code",
   "execution_count": 3,
   "metadata": {},
   "outputs": [
    {
     "name": "stdout",
     "output_type": "stream",
     "text": [
      "Model name: phi35-mini-instruct\n",
      "Model type: chat-completion\n",
      "Model provider name: Phi\n"
     ]
    }
   ],
   "source": [
    "print(\"Model name:\", model_info.model_name)\n",
    "print(\"Model type:\", model_info.model_type)\n",
    "print(\"Model provider name:\", model_info.model_provider_name)"
   ]
  },
  {
   "cell_type": "code",
   "execution_count": 4,
   "metadata": {},
   "outputs": [],
   "source": [
    "from azure.ai.inference.models import SystemMessage, UserMessage\n",
    "\n",
    "response = client.complete(\n",
    "    messages=[\n",
    "        SystemMessage(content=\"You are a helpful assistant.\"),\n",
    "        UserMessage(content=\"How many languages are in the world?\"),\n",
    "    ],\n",
    ")"
   ]
  },
  {
   "cell_type": "code",
   "execution_count": 5,
   "metadata": {},
   "outputs": [
    {
     "name": "stdout",
     "output_type": "stream",
     "text": [
      "Response:  Estimating the number of languages in the world is challenging due to factors such as language evolution, extinction, and the varying definitions of what constitutes a separate language versus a dialect. However, according to Ethnologue, a comprehensive reference work that catalogs all known living languages, there are approximately 7,139 living languages as of their 2021 edition.\n",
      "\n",
      "It's important to note that the number of languages changes over time. Some languages are becoming extinct, while new languages emerge due to various social, geographical, and cultural factors. Additionally, some languages have multiple dialects that could be considered separate languages, depending on the criteria used for distinction.\n",
      "\n",
      "Keep in mind that this number only accounts for currently spoken languages and does not include historical languages that no longer have native speakers.\n",
      "Model: phi35-mini-instruct\n",
      "Usage:\n",
      "\tPrompt tokens: 19\n",
      "\tTotal tokens: 195\n",
      "\tCompletion tokens: 176\n"
     ]
    }
   ],
   "source": [
    "print(\"Response:\", response.choices[0].message.content)\n",
    "print(\"Model:\", response.model)\n",
    "print(\"Usage:\")\n",
    "print(\"\\tPrompt tokens:\", response.usage.prompt_tokens)\n",
    "print(\"\\tTotal tokens:\", response.usage.total_tokens)\n",
    "print(\"\\tCompletion tokens:\", response.usage.completion_tokens)"
   ]
  },
  {
   "cell_type": "code",
   "execution_count": null,
   "metadata": {},
   "outputs": [],
   "source": []
  },
  {
   "cell_type": "code",
   "execution_count": null,
   "metadata": {},
   "outputs": [],
   "source": []
  }
 ],
 "metadata": {
  "kernelspec": {
   "display_name": "ai-for-data-wrangling-talk",
   "language": "python",
   "name": "python3"
  },
  "language_info": {
   "codemirror_mode": {
    "name": "ipython",
    "version": 3
   },
   "file_extension": ".py",
   "mimetype": "text/x-python",
   "name": "python",
   "nbconvert_exporter": "python",
   "pygments_lexer": "ipython3",
   "version": "3.11.10"
  }
 },
 "nbformat": 4,
 "nbformat_minor": 2
}
